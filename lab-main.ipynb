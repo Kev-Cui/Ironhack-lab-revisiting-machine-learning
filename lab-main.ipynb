{
 "cells": [
  {
   "cell_type": "markdown",
   "id": "61e0d3de",
   "metadata": {},
   "source": [
    "# Lab | Revisiting Machine Learning Case Study\n",
    "\n",
    "- In this lab, you will use `learningSet.csv` file which you already have cloned in today's activities. The full process for the week is shown in the PDF file.\n",
    "\n",
    "### Instructions\n",
    "\n",
    "Complete the following steps on the categorical columns in the dataset:\n",
    "\n",
    "- Check for null values in all the columns\n",
    "- Exclude the following variables by looking at the definitions. Create a new empty list called `drop_list`. We will append this list and then drop all the columns in this list later:\n",
    "    - `OSOURCE` - symbol definitions not provided, too many categories\n",
    "    - `ZIP` - we are including state already\n",
    "- Identify columns that have over 50% missing values.\n",
    "- Remove those columns from the dataframe\n",
    "- Perform all of the cleaning processes from the Lesson.\n",
    "- Reduce the number of categories in the column `GENDER`. The column should only have either \"M\" for males, \"F\" for females, and \"other\" for all the rest\n",
    "    - Note that there are a few null values in the column. We will first replace those null values using the code below:\n",
    "\n",
    "    ```python\n",
    "    print(categorical['GENDER'].value_counts())\n",
    "    categorical['GENDER'] = categorical['GENDER'].fillna('F')\n",
    "    ```"
   ]
  },
  {
   "cell_type": "code",
   "execution_count": 1,
   "id": "1e22fee6",
   "metadata": {},
   "outputs": [],
   "source": [
    "import pandas as pd\n",
    "import numpy as np"
   ]
  },
  {
   "cell_type": "code",
   "execution_count": 2,
   "id": "b05266e5",
   "metadata": {},
   "outputs": [],
   "source": [
    "data = pd.read_csv('learningSet.csv', low_memory=False)"
   ]
  },
  {
   "cell_type": "code",
   "execution_count": 31,
   "id": "48997c59",
   "metadata": {},
   "outputs": [],
   "source": [
    "# make df with categorical data\n",
    "categorical = data.select_dtypes(object)"
   ]
  },
  {
   "cell_type": "code",
   "execution_count": 32,
   "id": "0c508a1c",
   "metadata": {},
   "outputs": [],
   "source": [
    "# Dataframe for percentage null values\n",
    "nulls_percent_df = pd.DataFrame(categorical.isna().sum()*100/len(categorical)).reset_index()\n",
    "nulls_percent_df.columns = ['column_name', 'nulls_percentage']\n",
    "\n",
    "# Dataframe with columns with missing values above \n",
    "columns_above_threshold = nulls_percent_df[nulls_percent_df['nulls_percentage']>50] # as instructed, we use 0.5 (50% as threshold)\n",
    "drop_list = list(columns_above_threshold['column_name'])\n",
    "drop_list.extend(['OSOURCE','ZIP']) # add the two specified useless columns"
   ]
  },
  {
   "cell_type": "code",
   "execution_count": 33,
   "id": "f93526ee",
   "metadata": {},
   "outputs": [
    {
     "data": {
      "text/plain": [
       "['OSOURCE', 'ZIP']"
      ]
     },
     "execution_count": 33,
     "metadata": {},
     "output_type": "execute_result"
    }
   ],
   "source": [
    "drop_list#OK, there's only the two specified columns..."
   ]
  },
  {
   "cell_type": "code",
   "execution_count": 34,
   "id": "68fd2011",
   "metadata": {},
   "outputs": [],
   "source": [
    "# Drop them from dataframe\n",
    "categorical.drop(drop_list, axis=1, inplace=True)"
   ]
  },
  {
   "cell_type": "code",
   "execution_count": 35,
   "id": "a9f25294",
   "metadata": {},
   "outputs": [],
   "source": [
    "# apply cleaning we did in class: changing column \"MAILCODE\" and replacing all spaces ' ' value with actural Null value\n",
    "categorical['MAILCODE'] = categorical['MAILCODE'].apply(lambda x: x.replace(\" \", \"A\"))\n",
    "categorical = categorical.apply(lambda x: x.replace(\" \", np.NaN))\n",
    "\n",
    "# apply cleaning we did in class: groupping some states into 'other'\n",
    "df = pd.DataFrame(categorical['STATE'].value_counts()).reset_index()\n",
    "\n",
    "df.columns = ['state', 'count']\n",
    "other_states = list(df[df['count']<2500]['state'])\n",
    "\n",
    "categorical['STATE'] = categorical['STATE'].where(~categorical['STATE'].isin(other_states), 'other')"
   ]
  },
  {
   "cell_type": "code",
   "execution_count": 36,
   "id": "ed2a53dc",
   "metadata": {},
   "outputs": [],
   "source": [
    "# clean gender column\n",
    "categorical['GENDER'] = categorical['GENDER'].fillna('F') # fillna\n",
    "\n",
    "gend = ['F','M']\n",
    "categorical['GENDER'] = categorical['GENDER'].where(categorical['GENDER'].isin(gend), 'other')"
   ]
  },
  {
   "cell_type": "code",
   "execution_count": 37,
   "id": "2cf4ef47",
   "metadata": {},
   "outputs": [
    {
     "data": {
      "text/plain": [
       "GENDER\n",
       "F        54234\n",
       "M        39094\n",
       "other     2084\n",
       "Name: count, dtype: int64"
      ]
     },
     "execution_count": 37,
     "metadata": {},
     "output_type": "execute_result"
    }
   ],
   "source": [
    "categorical['GENDER'].value_counts()"
   ]
  },
  {
   "cell_type": "code",
   "execution_count": null,
   "id": "be76d732",
   "metadata": {},
   "outputs": [],
   "source": []
  }
 ],
 "metadata": {
  "kernelspec": {
   "display_name": "Python 3 (ipykernel)",
   "language": "python",
   "name": "python3"
  },
  "language_info": {
   "codemirror_mode": {
    "name": "ipython",
    "version": 3
   },
   "file_extension": ".py",
   "mimetype": "text/x-python",
   "name": "python",
   "nbconvert_exporter": "python",
   "pygments_lexer": "ipython3",
   "version": "3.11.5"
  }
 },
 "nbformat": 4,
 "nbformat_minor": 5
}
